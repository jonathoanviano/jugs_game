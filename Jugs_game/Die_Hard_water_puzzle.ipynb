{
 "cells": [
  {
   "cell_type": "markdown",
   "metadata": {},
   "source": [
    "# The 3 & 5 Litre Die Hard Water Puzzle"
   ]
  },
  {
   "cell_type": "markdown",
   "metadata": {},
   "source": [
    "Implementing a python scrip to play the following game:<br>\n",
    "You have a 3 and a 5 litre water container, each container has no markings except for that which gives you it's total volume. You also have a running tap. You must use the containers and the tap in such away as to exactly measure out 4 litres of water. <br>\n",
    "\n",
    "The possible options are:\n",
    "* Fill the 3-liter jug.\n",
    "* Fill the 5-liter jug.\n",
    "* Empty the 3-liter jug.\n",
    "* Empty the 5-liter jug.\n",
    "* Pour the contents of the 3-liter jug into the 5-liter jug.\n",
    "* Pour the contents of the 5-liter jug into the 3-liter jug."
   ]
  },
  {
   "cell_type": "code",
   "execution_count": 3,
   "metadata": {},
   "outputs": [],
   "source": [
    "class JugGame:\n",
    "    def __init__(self):\n",
    "        self.jug_5L_capacity = 5\n",
    "        self.jug_3L_capacity = 3\n",
    "        self.jug_5L = 0\n",
    "        self.jug_3L = 0\n",
    "\n",
    "    def fill_jug_5L(self):\n",
    "        self.jug_5L = self.jug_5L_capacity\n",
    "\n",
    "    def fill_jug_3L(self):\n",
    "        self.jug_3L = self.jug_3L_capacity\n",
    "\n",
    "    def empty_jug_5L(self):\n",
    "        self.jug_5L = 0\n",
    "\n",
    "    def empty_jug_3L(self):\n",
    "        self.jug_3L = 0\n",
    "\n",
    "    def pour_jug_3L_into_5L(self):\n",
    "        available_space = self.jug_5L_capacity - self.jug_5L\n",
    "        amount_to_pour = min(available_space, self.jug_3L)\n",
    "        self.jug_5L += amount_to_pour\n",
    "        self.jug_3L -= amount_to_pour\n",
    "\n",
    "    def pour_jug_5L_into_3L(self):\n",
    "        available_space = self.jug_3L_capacity - self.jug_3L\n",
    "        amount_to_pour = min(available_space, self.jug_5L)\n",
    "        self.jug_3L += amount_to_pour\n",
    "        self.jug_5L -= amount_to_pour\n",
    "\n",
    "    def game(self):\n",
    "        print(\"Welcome to the jug game.\")\n",
    "        print(\"Objective: Fill the 5L jug with 4 liters.\")\n",
    "        print(\"Possible options:\")\n",
    "        print(\"1. Fill the 3L jug\")\n",
    "        print(\"2. Fill the 5L jug\")\n",
    "        print(\"3. Empty the 3L jug\")\n",
    "        print(\"4. Empty the 5L jug\")\n",
    "        print(\"5. Pour the content of the 3L jug into the 5L jug\")\n",
    "        print(\"6. Pour the content of the 5L jug into the 3L jug\")\n",
    "\n",
    "        while self.jug_5L != 4:\n",
    "            print(\"\\nCurrent state:\")\n",
    "            print(f\"5L jug: {self.jug_5L} liters\")\n",
    "            print(f\"3L jug: {self.jug_3L} liters\")\n",
    "\n",
    "            option = input(\"Enter the number of the chosen option: \")\n",
    "\n",
    "            if option == \"1\":\n",
    "                self.fill_jug_3L()\n",
    "            elif option == \"2\":\n",
    "                self.fill_jug_5L()\n",
    "            elif option == \"3\":\n",
    "                self.empty_jug_3L()\n",
    "            elif option == \"4\":\n",
    "                self.empty_jug_5L()\n",
    "            elif option == \"5\":\n",
    "                self.pour_jug_3L_into_5L()\n",
    "            elif option == \"6\":\n",
    "                self.pour_jug_5L_into_3L()\n",
    "            else:\n",
    "                print(\"Invalid option. Please try again.\")\n",
    "\n",
    "        print(\"\\nCongratulations! You have successfully filled the 5L jug with 4 liters.\")"
   ]
  },
  {
   "cell_type": "code",
   "execution_count": 6,
   "metadata": {},
   "outputs": [],
   "source": [
    "# EXECUTE THE CODE BELOW TO PLAY THE GAME\n",
    "\n",
    "#JugGame().game()"
   ]
  },
  {
   "cell_type": "code",
   "execution_count": null,
   "metadata": {},
   "outputs": [],
   "source": []
  }
 ],
 "metadata": {
  "kernelspec": {
   "display_name": "Python 3 (ipykernel)",
   "language": "python",
   "name": "python3"
  },
  "language_info": {
   "codemirror_mode": {
    "name": "ipython",
    "version": 3
   },
   "file_extension": ".py",
   "mimetype": "text/x-python",
   "name": "python",
   "nbconvert_exporter": "python",
   "pygments_lexer": "ipython3",
   "version": "3.10.4"
  }
 },
 "nbformat": 4,
 "nbformat_minor": 4
}
